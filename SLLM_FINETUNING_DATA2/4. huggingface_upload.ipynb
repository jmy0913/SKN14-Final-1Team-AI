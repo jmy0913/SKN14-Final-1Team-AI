{
 "cells": [
  {
   "metadata": {
    "ExecuteTime": {
     "end_time": "2025-09-29T05:27:17.468643Z",
     "start_time": "2025-09-29T05:27:17.442569Z"
    }
   },
   "cell_type": "code",
   "source": [
    "from dotenv import load_dotenv\n",
    "\n",
    "load_dotenv()"
   ],
   "id": "376d40df4d01672e",
   "outputs": [
    {
     "data": {
      "text/plain": [
       "True"
      ]
     },
     "execution_count": 4,
     "metadata": {},
     "output_type": "execute_result"
    }
   ],
   "execution_count": 4
  },
  {
   "cell_type": "code",
   "id": "initial_id",
   "metadata": {
    "collapsed": true,
    "ExecuteTime": {
     "end_time": "2025-09-29T05:28:02.910530Z",
     "start_time": "2025-09-29T05:28:02.301515Z"
    }
   },
   "source": [
    "from huggingface_hub import HfApi\n",
    "\n",
    "api = HfApi()\n",
    "\n",
    "# 내 사용자 네임스페이스에 만들기 (로그인/토큰이 이미 설정되어 있다면)\n",
    "api.create_repo(\n",
    "    repo_id=\"qwen-finetuning-data-ko-250919\",   # ← name 아님!\n",
    "    repo_type=\"dataset\",\n",
    "    private=False,         # 공개로 하려면 False\n",
    "    exist_ok=True         # 이미 있으면 에러 대신 통과\n",
    ")"
   ],
   "outputs": [
    {
     "data": {
      "text/plain": [
       "RepoUrl('https://huggingface.co/datasets/SKN14-Final-1Team/qwen-finetuning-data-ko-250919', endpoint='https://huggingface.co', repo_type='dataset', repo_id='SKN14-Final-1Team/qwen-finetuning-data-ko-250919')"
      ]
     },
     "execution_count": 7,
     "metadata": {},
     "output_type": "execute_result"
    }
   ],
   "execution_count": 7
  },
  {
   "metadata": {
    "ExecuteTime": {
     "end_time": "2025-09-29T05:31:23.942154Z",
     "start_time": "2025-09-29T05:31:23.935150Z"
    }
   },
   "cell_type": "code",
   "source": "REPO_ID = \"SKN14-Final-1Team/qwen-finetuning-data-ko-250919\"\n",
   "id": "425d2957165e8312",
   "outputs": [],
   "execution_count": 15
  },
  {
   "metadata": {
    "ExecuteTime": {
     "end_time": "2025-09-29T05:31:30.084037Z",
     "start_time": "2025-09-29T05:31:24.992686Z"
    }
   },
   "cell_type": "code",
   "source": [
    "from huggingface_hub import upload_file\n",
    "\n",
    "# 2) 파일 업로드 (단일 파일)\n",
    "upload_file(\n",
    "    path_or_fileobj=\"qwen3_company_train_dataset_combined.json\",\n",
    "    path_in_repo=\"data/qwen3_company_train_dataset_combined.json\",\n",
    "    repo_id=REPO_ID,\n",
    "    repo_type=\"dataset\",\n",
    ")"
   ],
   "id": "9cd3dfbc3479f69e",
   "outputs": [
    {
     "data": {
      "text/plain": [
       "qwen3_company_train_dataset_combined.json:   0%|          | 0.00/27.2M [00:00<?, ?B/s]"
      ],
      "application/vnd.jupyter.widget-view+json": {
       "version_major": 2,
       "version_minor": 0,
       "model_id": "cc16fb7d947944f9b4d9e370be22559e"
      }
     },
     "metadata": {},
     "output_type": "display_data"
    },
    {
     "data": {
      "text/plain": [
       "CommitInfo(commit_url='https://huggingface.co/datasets/SKN14-Final-1Team/qwen-finetuning-data-ko-250919/commit/057f9081e5db37e1e07263c644da5c8d2ad05478', commit_message='Upload data/qwen3_company_train_dataset_combined.json with huggingface_hub', commit_description='', oid='057f9081e5db37e1e07263c644da5c8d2ad05478', pr_url=None, repo_url=RepoUrl('https://huggingface.co/datasets/SKN14-Final-1Team/qwen-finetuning-data-ko-250919', endpoint='https://huggingface.co', repo_type='dataset', repo_id='SKN14-Final-1Team/qwen-finetuning-data-ko-250919'), pr_revision=None, pr_num=None)"
      ]
     },
     "execution_count": 16,
     "metadata": {},
     "output_type": "execute_result"
    }
   ],
   "execution_count": 16
  }
 ],
 "metadata": {
  "kernelspec": {
   "display_name": "Python 3",
   "language": "python",
   "name": "python3"
  },
  "language_info": {
   "codemirror_mode": {
    "name": "ipython",
    "version": 2
   },
   "file_extension": ".py",
   "mimetype": "text/x-python",
   "name": "python",
   "nbconvert_exporter": "python",
   "pygments_lexer": "ipython2",
   "version": "2.7.6"
  }
 },
 "nbformat": 4,
 "nbformat_minor": 5
}
