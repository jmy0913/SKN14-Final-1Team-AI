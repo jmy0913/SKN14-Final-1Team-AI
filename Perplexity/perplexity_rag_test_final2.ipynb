{
 "cells": [
  {
   "cell_type": "markdown",
   "id": "a2cfeeb92aeeb467",
   "metadata": {},
   "source": [
    "## 이미 생성된 합성 데이터셋 불러오기"
   ]
  },
  {
   "cell_type": "code",
   "execution_count": null,
   "id": "ff9c5e6f728af5ac",
   "metadata": {
    "ExecuteTime": {
     "end_time": "2025-09-26T16:48:15.535954Z",
     "start_time": "2025-09-26T16:48:15.524569Z"
    }
   },
   "outputs": [
    {
     "name": "stdout",
     "output_type": "stream",
     "text": [
      "(20, 3)\n"
     ]
    },
    {
     "data": {
      "text/html": [
       "<div>\n",
       "<style scoped>\n",
       "    .dataframe tbody tr th:only-of-type {\n",
       "        vertical-align: middle;\n",
       "    }\n",
       "\n",
       "    .dataframe tbody tr th {\n",
       "        vertical-align: top;\n",
       "    }\n",
       "\n",
       "    .dataframe thead th {\n",
       "        text-align: right;\n",
       "    }\n",
       "</style>\n",
       "<table border=\"1\" class=\"dataframe\">\n",
       "  <thead>\n",
       "    <tr style=\"text-align: right;\">\n",
       "      <th></th>\n",
       "      <th>user_input</th>\n",
       "      <th>reference_contexts</th>\n",
       "      <th>reference</th>\n",
       "    </tr>\n",
       "  </thead>\n",
       "  <tbody>\n",
       "    <tr>\n",
       "      <th>0</th>\n",
       "      <td>Analytics Hub 게시자와 목록 관리자 역할의 차이점은 무엇인가요?</td>\n",
       "      <td>사용자가 다음 작업을 수행할 수 있게 해주는 Analytics Hub 게시자 역할(...</td>\n",
       "      <td>Analytics Hub 게시자 역할은 목록을 생성, 업데이트, 삭제하고 목록에 I...</td>\n",
       "    </tr>\n",
       "    <tr>\n",
       "      <th>1</th>\n",
       "      <td>BigQuery Studio 저장된 쿼리에 공개 액세스 권한을 방지하려면 어떻게 해...</td>\n",
       "      <td>BigQuery Studio 저장된 쿼리에 공개 액세스 권한이 부여되지 않도록 하려...</td>\n",
       "      <td>BigQuery Studio 저장된 쿼리에 공개 액세스 권한을 방지하려면 프로젝트에...</td>\n",
       "    </tr>\n",
       "    <tr>\n",
       "      <th>2</th>\n",
       "      <td>calendarId에 primary 키워드를 사용하면 어떤 캘린더에 접근할 수 있나요?</td>\n",
       "      <td>현재 로그인한 사용자의 기본 캘린더에 액세스하려면 'primary' 키워드를 사용하세요.</td>\n",
       "      <td>calendarId에 primary 키워드를 사용하면 현재 로그인한 사용자의 기본 ...</td>\n",
       "    </tr>\n",
       "    <tr>\n",
       "      <th>3</th>\n",
       "      <td>Google Drive API v3의 서비스 엔드포인트가 궁금해</td>\n",
       "      <td>이 서비스에는 다음 서비스 엔드포인트가 포함되고, 그 아래의 모든 URI가 이 서비...</td>\n",
       "      <td>Google Drive API v3의 서비스 엔드포인트는 https://www.go...</td>\n",
       "    </tr>\n",
       "    <tr>\n",
       "      <th>4</th>\n",
       "      <td>files.create 메서드의 최대 파일 크기와 허용되는 미디어 MIME 유형은 ...</td>\n",
       "      <td>최대 파일 크기: 5,120GB\\r\\n허용되는 미디어 MIME 유형: */*\\r\\n...</td>\n",
       "      <td>files.create 메서드의 최대 파일 크기는 5,120GB입니다. 허용되는 미...</td>\n",
       "    </tr>\n",
       "    <tr>\n",
       "      <th>5</th>\n",
       "      <td>Firebase scrypt 해시 비밀번호를 사용한 사용자 가져오는 방법은?</td>\n",
       "      <td>기본적으로 Firebase는 scrypt 해싱 알고리즘의 수정된 Firebase 버...</td>\n",
       "      <td>Firebase scrypt 해시 비밀번호를 사용한 사용자를 가져오려면, 먼저 Fi...</td>\n",
       "    </tr>\n",
       "    <tr>\n",
       "      <th>6</th>\n",
       "      <td>커스텀 인증 시스템으로 Firebase에 인증하려면 어떻게 해야 하나요?</td>\n",
       "      <td>Firebase 인증에 맞춤 인증 시스템을 통합할 수 있습니다. 사용자가 정상적으로...</td>\n",
       "      <td>커스텀 인증 시스템으로 Firebase에 인증하려면, 먼저 인증 서버에서 사용자의 ...</td>\n",
       "    </tr>\n",
       "    <tr>\n",
       "      <th>7</th>\n",
       "      <td>Firestore에서 맵 필드에 대한 단일 필드 색인 예외를 설정하면, 하위 필드들...</td>\n",
       "      <td>맵 필드에 단일 필드 색인 예외를 만들면 맵의 하위 필드에서 해당 설정을 상속합니다...</td>\n",
       "      <td>네, Firestore에서 맵 필드에 단일 필드 색인 예외를 만들면 맵의 하위 필드...</td>\n",
       "    </tr>\n",
       "    <tr>\n",
       "      <th>8</th>\n",
       "      <td>Firebase의 updateTime 필드에 사용되는 시간 형식이 뭐야?</td>\n",
       "      <td>Uses RFC 3339, where generated output will alw...</td>\n",
       "      <td>Firebase의 updateTime 필드에는 RFC 3339 시간 형식이 사용됩니...</td>\n",
       "    </tr>\n",
       "    <tr>\n",
       "      <th>9</th>\n",
       "      <td>Firefox 58 환경에서 Gmail의 AMP 렌더링 기능이 호환되나요?</td>\n",
       "      <td>브라우저 최소 버전\\r\\nChrome 69\\r\\nEdge 지원되지 않음\\r\\nFir...</td>\n",
       "      <td>네, Firefox 58 환경에서는 Gmail의 AMP 렌더링 기능이 호환됩니다. ...</td>\n",
       "    </tr>\n",
       "    <tr>\n",
       "      <th>10</th>\n",
       "      <td>Gmail 자가 테스트를 할 때 DKIM 또는 SPF 인증이 필요해?</td>\n",
       "      <td>DKIM 또는 SPF 인증 자체 테스트에는 여전히 필요합니다.</td>\n",
       "      <td>네, Gmail 자가 테스트를 할 때 DKIM 또는 SPF 인증이 여전히 필요합니다.</td>\n",
       "    </tr>\n",
       "    <tr>\n",
       "      <th>11</th>\n",
       "      <td>HTML 헤더에 스크립트 태그를 넣을 수 없을 때, 이메일 본문에 코드를 삽입하는 ...</td>\n",
       "      <td>이메일 구성 방식에 따라 이메일 본문의 할인/제품을 담당하는 시스템은 HTML 헤더...</td>\n",
       "      <td>HTML 헤더에 스크립트 태그를 넣을 수 없는 경우, 이메일 본문에 스크립트 태그의...</td>\n",
       "    </tr>\n",
       "    <tr>\n",
       "      <th>12</th>\n",
       "      <td>OAuth에서 승인 사용자 인증 정보 만드는 방법 순서대로 알려주세요.</td>\n",
       "      <td>1. 클라이언트 만들기를 클릭합니다. 2. TV 및 입력 제한 기기 애플리케이션 유...</td>\n",
       "      <td>OAuth에서 승인 사용자 인증 정보를 만드는 방법은 다음과 같습니다. 먼저, '클...</td>\n",
       "    </tr>\n",
       "    <tr>\n",
       "      <th>13</th>\n",
       "      <td>Google의 계정 간 보안 서비스를 사용하는데 디코딩된 보안 이벤트 토큰의 eve...</td>\n",
       "      <td>events 클레임에는 토큰이 나타내는 보안 이벤트에 관한 정보가 포함됩니다. 이 ...</td>\n",
       "      <td>디코딩된 보안 이벤트 토큰의 events 클레임에는 토큰이 나타내는 보안 이벤트에 ...</td>\n",
       "    </tr>\n",
       "    <tr>\n",
       "      <th>14</th>\n",
       "      <td>MAP 3D 스토리텔링의 '표지'를 구성하기 위해 config.json 파일에 직접...</td>\n",
       "      <td>또한 구성 파일이 있는 경우 파일에 다음 섹션을 직접 추가할 수 있습니다.\\r\\n\\...</td>\n",
       "      <td>MAP 3D 스토리텔링의 '표지'를 구성하기 위해 config.json 파일에 직접...</td>\n",
       "    </tr>\n",
       "    <tr>\n",
       "      <th>15</th>\n",
       "      <td>GMSMapPoint의 좌표계에서 (0, 0)은 어떤 지점을 의미하나요?</td>\n",
       "      <td>(0, 0) is the center of the map.</td>\n",
       "      <td>(0, 0)은 GMSMapPoint 좌표계에서 지도의 중심을 의미합니다.</td>\n",
       "    </tr>\n",
       "    <tr>\n",
       "      <th>16</th>\n",
       "      <td>People API의 RequestMask 필드에 무엇을 입력해야 하나요?</td>\n",
       "      <td>지원 중단된 서비스입니다.</td>\n",
       "      <td>지원 중단되었습니다. 대신 personFields를 사용해 주세요.</td>\n",
       "    </tr>\n",
       "    <tr>\n",
       "      <th>17</th>\n",
       "      <td>People API에 요청을 보내는 Python 스크립트를 어떻게 실행하고 구성해야...</td>\n",
       "      <td>Python용 Google 클라이언트 라이브러리를 설치합니다.\\r\\npip inst...</td>\n",
       "      <td>People API에 요청을 보내는 Python 스크립트를 실행하고 구성하려면 다음...</td>\n",
       "    </tr>\n",
       "    <tr>\n",
       "      <th>18</th>\n",
       "      <td>Google Sheets의 SERIAL_NUMBER 형식으로 1900년 2월 1일 ...</td>\n",
       "      <td>날짜, 시간, 날짜/시간, 기간 필드를 Lotus 1-2-3에서 대중화한 '일련번호...</td>\n",
       "      <td>Google Sheets의 SERIAL_NUMBER 형식에서 1900년 2월 1일 ...</td>\n",
       "    </tr>\n",
       "    <tr>\n",
       "      <th>19</th>\n",
       "      <td>YouTube Data API를 사용하는 프로젝트의 기본 할당량은 얼마인가요?</td>\n",
       "      <td>YouTube Data API를 사용 설정한 프로젝트의 기본 할당량은 일일 10,0...</td>\n",
       "      <td>YouTube Data API를 사용하는 프로젝트의 기본 할당량은 일일 10,000...</td>\n",
       "    </tr>\n",
       "  </tbody>\n",
       "</table>\n",
       "</div>"
      ],
      "text/plain": [
       "                                           user_input  \\\n",
       "0           Analytics Hub 게시자와 목록 관리자 역할의 차이점은 무엇인가요?   \n",
       "1   BigQuery Studio 저장된 쿼리에 공개 액세스 권한을 방지하려면 어떻게 해...   \n",
       "2    calendarId에 primary 키워드를 사용하면 어떤 캘린더에 접근할 수 있나요?   \n",
       "3                 Google Drive API v3의 서비스 엔드포인트가 궁금해   \n",
       "4   files.create 메서드의 최대 파일 크기와 허용되는 미디어 MIME 유형은 ...   \n",
       "5          Firebase scrypt 해시 비밀번호를 사용한 사용자 가져오는 방법은?   \n",
       "6            커스텀 인증 시스템으로 Firebase에 인증하려면 어떻게 해야 하나요?   \n",
       "7   Firestore에서 맵 필드에 대한 단일 필드 색인 예외를 설정하면, 하위 필드들...   \n",
       "8            Firebase의 updateTime 필드에 사용되는 시간 형식이 뭐야?   \n",
       "9           Firefox 58 환경에서 Gmail의 AMP 렌더링 기능이 호환되나요?   \n",
       "10             Gmail 자가 테스트를 할 때 DKIM 또는 SPF 인증이 필요해?   \n",
       "11  HTML 헤더에 스크립트 태그를 넣을 수 없을 때, 이메일 본문에 코드를 삽입하는 ...   \n",
       "12            OAuth에서 승인 사용자 인증 정보 만드는 방법 순서대로 알려주세요.   \n",
       "13  Google의 계정 간 보안 서비스를 사용하는데 디코딩된 보안 이벤트 토큰의 eve...   \n",
       "14  MAP 3D 스토리텔링의 '표지'를 구성하기 위해 config.json 파일에 직접...   \n",
       "15           GMSMapPoint의 좌표계에서 (0, 0)은 어떤 지점을 의미하나요?   \n",
       "16          People API의 RequestMask 필드에 무엇을 입력해야 하나요?   \n",
       "17  People API에 요청을 보내는 Python 스크립트를 어떻게 실행하고 구성해야...   \n",
       "18  Google Sheets의 SERIAL_NUMBER 형식으로 1900년 2월 1일 ...   \n",
       "19        YouTube Data API를 사용하는 프로젝트의 기본 할당량은 얼마인가요?   \n",
       "\n",
       "                                   reference_contexts  \\\n",
       "0   사용자가 다음 작업을 수행할 수 있게 해주는 Analytics Hub 게시자 역할(...   \n",
       "1   BigQuery Studio 저장된 쿼리에 공개 액세스 권한이 부여되지 않도록 하려...   \n",
       "2   현재 로그인한 사용자의 기본 캘린더에 액세스하려면 'primary' 키워드를 사용하세요.   \n",
       "3   이 서비스에는 다음 서비스 엔드포인트가 포함되고, 그 아래의 모든 URI가 이 서비...   \n",
       "4   최대 파일 크기: 5,120GB\\r\\n허용되는 미디어 MIME 유형: */*\\r\\n...   \n",
       "5   기본적으로 Firebase는 scrypt 해싱 알고리즘의 수정된 Firebase 버...   \n",
       "6   Firebase 인증에 맞춤 인증 시스템을 통합할 수 있습니다. 사용자가 정상적으로...   \n",
       "7   맵 필드에 단일 필드 색인 예외를 만들면 맵의 하위 필드에서 해당 설정을 상속합니다...   \n",
       "8   Uses RFC 3339, where generated output will alw...   \n",
       "9   브라우저 최소 버전\\r\\nChrome 69\\r\\nEdge 지원되지 않음\\r\\nFir...   \n",
       "10                 DKIM 또는 SPF 인증 자체 테스트에는 여전히 필요합니다.   \n",
       "11  이메일 구성 방식에 따라 이메일 본문의 할인/제품을 담당하는 시스템은 HTML 헤더...   \n",
       "12  1. 클라이언트 만들기를 클릭합니다. 2. TV 및 입력 제한 기기 애플리케이션 유...   \n",
       "13  events 클레임에는 토큰이 나타내는 보안 이벤트에 관한 정보가 포함됩니다. 이 ...   \n",
       "14  또한 구성 파일이 있는 경우 파일에 다음 섹션을 직접 추가할 수 있습니다.\\r\\n\\...   \n",
       "15                   (0, 0) is the center of the map.   \n",
       "16                                     지원 중단된 서비스입니다.   \n",
       "17  Python용 Google 클라이언트 라이브러리를 설치합니다.\\r\\npip inst...   \n",
       "18  날짜, 시간, 날짜/시간, 기간 필드를 Lotus 1-2-3에서 대중화한 '일련번호...   \n",
       "19  YouTube Data API를 사용 설정한 프로젝트의 기본 할당량은 일일 10,0...   \n",
       "\n",
       "                                            reference  \n",
       "0   Analytics Hub 게시자 역할은 목록을 생성, 업데이트, 삭제하고 목록에 I...  \n",
       "1   BigQuery Studio 저장된 쿼리에 공개 액세스 권한을 방지하려면 프로젝트에...  \n",
       "2   calendarId에 primary 키워드를 사용하면 현재 로그인한 사용자의 기본 ...  \n",
       "3   Google Drive API v3의 서비스 엔드포인트는 https://www.go...  \n",
       "4   files.create 메서드의 최대 파일 크기는 5,120GB입니다. 허용되는 미...  \n",
       "5   Firebase scrypt 해시 비밀번호를 사용한 사용자를 가져오려면, 먼저 Fi...  \n",
       "6   커스텀 인증 시스템으로 Firebase에 인증하려면, 먼저 인증 서버에서 사용자의 ...  \n",
       "7   네, Firestore에서 맵 필드에 단일 필드 색인 예외를 만들면 맵의 하위 필드...  \n",
       "8   Firebase의 updateTime 필드에는 RFC 3339 시간 형식이 사용됩니...  \n",
       "9   네, Firefox 58 환경에서는 Gmail의 AMP 렌더링 기능이 호환됩니다. ...  \n",
       "10    네, Gmail 자가 테스트를 할 때 DKIM 또는 SPF 인증이 여전히 필요합니다.  \n",
       "11  HTML 헤더에 스크립트 태그를 넣을 수 없는 경우, 이메일 본문에 스크립트 태그의...  \n",
       "12  OAuth에서 승인 사용자 인증 정보를 만드는 방법은 다음과 같습니다. 먼저, '클...  \n",
       "13  디코딩된 보안 이벤트 토큰의 events 클레임에는 토큰이 나타내는 보안 이벤트에 ...  \n",
       "14  MAP 3D 스토리텔링의 '표지'를 구성하기 위해 config.json 파일에 직접...  \n",
       "15           (0, 0)은 GMSMapPoint 좌표계에서 지도의 중심을 의미합니다.  \n",
       "16              지원 중단되었습니다. 대신 personFields를 사용해 주세요.  \n",
       "17  People API에 요청을 보내는 Python 스크립트를 실행하고 구성하려면 다음...  \n",
       "18  Google Sheets의 SERIAL_NUMBER 형식에서 1900년 2월 1일 ...  \n",
       "19  YouTube Data API를 사용하는 프로젝트의 기본 할당량은 일일 10,000...  "
      ]
     },
     "metadata": {},
     "output_type": "display_data"
    }
   ],
   "source": [
    "## 이미 생성된 합성 데이터셋 생성\n",
    "import pandas as pd\n",
    "\n",
    "# 같은 폴더(현재 작업 디렉토리)에 저장했다면  ㅐ\n",
    "dataset_df = pd.read_csv(\"./dataset.csv\")\n",
    "print(dataset_df.shape)\n",
    "display(dataset_df)"
   ]
  },
  {
   "cell_type": "code",
   "execution_count": null,
   "id": "73cfad477c240d64",
   "metadata": {
    "ExecuteTime": {
     "end_time": "2025-09-26T16:48:18.231293Z",
     "start_time": "2025-09-26T16:48:18.223330Z"
    }
   },
   "outputs": [],
   "source": [
    "# 테스트용으로 줄여서 했습니다. 이후 테스트할땐 실행 안하셔도 됩니다.\n",
    "\n",
    "# dataset_df = dataset_df[:4]\n",
    "# display(dataset_df)"
   ]
  },
  {
   "cell_type": "markdown",
   "id": "a6e2f1bb9711233f",
   "metadata": {},
   "source": [
    "## 우리가 쓰는 RAG 체인 불러오기"
   ]
  },
  {
   "cell_type": "code",
   "execution_count": 2,
   "id": "a2ec51e9810bd73e",
   "metadata": {
    "ExecuteTime": {
     "end_time": "2025-09-26T16:45:18.533463Z",
     "start_time": "2025-09-26T16:45:02.417898Z"
    }
   },
   "outputs": [
    {
     "name": "stderr",
     "output_type": "stream",
     "text": [
      "c:\\Users\\playdata2\\miniconda3\\envs\\final-clean\\lib\\site-packages\\tqdm\\auto.py:21: TqdmWarning: IProgress not found. Please update jupyter and ipywidgets. See https://ipywidgets.readthedocs.io/en/stable/user_install.html\n",
      "  from .autonotebook import tqdm as notebook_tqdm\n"
     ]
    },
    {
     "name": "stdout",
     "output_type": "stream",
     "text": [
      "BM25 인덱스 로드: c:\\Workspaces\\SKN14-Final-1Team-AI\\Perplexity\\utils_final2\\bm25_index.pkl\n",
      "BM25 인덱스 로드: c:\\Workspaces\\SKN14-Final-1Team-AI\\Perplexity\\utils_final2\\bm25_qa_index.pkl\n"
     ]
    },
    {
     "name": "stderr",
     "output_type": "stream",
     "text": [
      "c:\\Workspaces\\SKN14-Final-1Team-AI\\Perplexity\\utils_final2\\retriever.py:51: LangChainDeprecationWarning: The class `Chroma` was deprecated in LangChain 0.2.9 and will be removed in 1.0. An updated version of the class exists in the :class:`~langchain-chroma package and should be used instead. To use it run `pip install -U :class:`~langchain-chroma` and import as `from :class:`~langchain_chroma import Chroma``.\n",
      "  vs = Chroma(\n"
     ]
    }
   ],
   "source": [
    "from pathlib import Path\n",
    "import sys\n",
    "\n",
    "root = Path.cwd()\n",
    "while not (root / \"utils_final2\").exists() and root != root.parent:\n",
    "    root = root.parent\n",
    "sys.path.insert(0, str(root))\n",
    "\n",
    "from utils_final2.main3 import run_langraph"
   ]
  },
  {
   "cell_type": "markdown",
   "id": "da433756d62e3e48",
   "metadata": {},
   "source": [
    "## RAG 및 퍼플렉시티 비교"
   ]
  },
  {
   "cell_type": "markdown",
   "id": "ca2235f134ab02a2",
   "metadata": {},
   "source": [
    "### 정성적 평가 체인"
   ]
  },
  {
   "cell_type": "markdown",
   "id": "878b6555",
   "metadata": {},
   "source": [
    "정확도: 정답과 맞는지 여부\n",
    "\n",
    "재현율: 정답의 요소를 얼마나 빠짐없이 담았는지\n",
    "\n",
    "신뢰성: 추측이나 헛소리 없이 정답 기반인지"
   ]
  },
  {
   "cell_type": "code",
   "execution_count": null,
   "id": "6de354a33c502f49",
   "metadata": {
    "ExecuteTime": {
     "end_time": "2025-09-26T16:49:39.818856Z",
     "start_time": "2025-09-26T16:49:39.800588Z"
    }
   },
   "outputs": [],
   "source": [
    "import os\n",
    "import json\n",
    "import pandas as pd\n",
    "import numpy as np\n",
    "from openai import OpenAI\n",
    "from dotenv import load_dotenv\n",
    "\n",
    "# 환경 변수 불러오기\n",
    "load_dotenv()\n",
    "client = OpenAI()\n",
    "\n",
    "def api_document_evaluation(question: str, answer: str, system_answer: str):\n",
    "    prompt = f\"\"\"\n",
    "당신은 API 문서 기반 평가 전문가입니다. 주어진 시스템의 답변이 **기준 정답과 얼마나 일치하는지**,\n",
    "**중요한 정보를 얼마나 잘 재현했는지**, 그리고 **불필요한 추측 없이 신뢰성 있게 답했는지** 평가해야 합니다.\n",
    "\n",
    "주의: \n",
    "- 불필요하게 길거나 화려해도 기준 정답과 다르면 점수를 낮게 주어야 합니다.  \n",
    "- 답변이 짧아도 기준 정답의 핵심을 정확히 담고 있으면 높은 점수를 줘야 합니다.  \n",
    "- 추측이나 일반 지식 기반의 설명이 섞여 있으면 반드시 감점해야 합니다.\n",
    "\n",
    "평가 기준:\n",
    "1. **정확도 (Accuracy)**:\n",
    "    - 3점: 기준 정답과 거의 동일하거나 의미적으로 정확히 일치\n",
    "    - 2점: 핵심 내용은 맞지만 일부 세부 사항이 누락되거나 다르게 표현됨\n",
    "    - 1점: 주요 정보는 맞지만 중요한 요소가 크게 누락됨\n",
    "    - 0점: 기준 정답과의 불일치가 큼 (추측/일반 지식 포함)\n",
    "\n",
    "2. **재현율 (Recall)**:\n",
    "    - 3점: 기준 정답의 모든 핵심 요소를 포함하고, 핵심 정보를 정확히 재현\n",
    "    - 2점: 주요 요소는 재현되었으나 일부 세부 정보가 부족\n",
    "    - 1점: 핵심 정보 일부가 누락되었거나 잘못 설명됨\n",
    "    - 0점: 핵심 정보가 많이 누락됨\n",
    "    - 답변이 간단해도 기준 정답의 핵심을 담으면 높은 점수를 줘야 함\n",
    "\n",
    "3. **신뢰성 (Reliability)**:\n",
    "    - 3점: 기준 정답과 일치하며, 불필요한 추측이나 일반 지식 추가 없이 핵심적으로 답변\n",
    "    - 2점: 전반적으로 맞으나 다소 애매하거나 불필요한 설명 포함\n",
    "    - 1점: 일부 맞으나 추측/일반 지식이 섞여 있음\n",
    "    - 0점: 기준 정답과 무관하거나 추측성 설명 위주\n",
    "\n",
    "출력은 반드시 JSON 형식으로만 하세요:\n",
    "{{\n",
    "  \"accuracy\": 3,\n",
    "  \"recall\": 2,\n",
    "  \"reliability\": 3\n",
    "}}\n",
    "\n",
    "## 사용자 질문 : {question}\n",
    "## 기준 정답 : {answer}\n",
    "## 시스템 답변 : {system_answer}\n",
    "\"\"\"\n",
    "\n",
    "    response = client.chat.completions.create(\n",
    "        model=\"gpt-4o-mini\",\n",
    "        temperature=0,\n",
    "        response_format={\"type\": \"json_object\"},\n",
    "        messages=[\n",
    "            {\"role\": \"system\", \"content\": \"너는 API 문서 기반 RAG 답변 평가 전문가이다.\"},\n",
    "            {\"role\": \"user\", \"content\": prompt},\n",
    "        ]\n",
    "    )\n",
    "\n",
    "    return response.choices[0].message.content\n"
   ]
  },
  {
   "cell_type": "code",
   "execution_count": 4,
   "id": "b99f9209",
   "metadata": {},
   "outputs": [],
   "source": [
    "dataset_df = pd.read_csv(\"rag_with_answers.csv\")"
   ]
  },
  {
   "cell_type": "code",
   "execution_count": null,
   "id": "4c48da7d5353216f",
   "metadata": {
    "ExecuteTime": {
     "end_time": "2025-09-26T16:51:13.718682Z",
     "start_time": "2025-09-26T16:49:41.689415Z"
    }
   },
   "outputs": [
    {
     "name": "stdout",
     "output_type": "stream",
     "text": [
      "평가 완료: 1/20 - Accuracy: 3\n",
      "평가 완료: 2/20 - Accuracy: 3\n",
      "평가 완료: 3/20 - Accuracy: 3\n",
      "평가 완료: 4/20 - Accuracy: 1\n",
      "평가 완료: 5/20 - Accuracy: 2\n",
      "평가 완료: 6/20 - Accuracy: 2\n",
      "평가 완료: 7/20 - Accuracy: 2\n",
      "평가 완료: 8/20 - Accuracy: 3\n",
      "평가 완료: 9/20 - Accuracy: 2\n",
      "평가 완료: 10/20 - Accuracy: 3\n",
      "평가 완료: 11/20 - Accuracy: 3\n",
      "평가 완료: 12/20 - Accuracy: 2\n",
      "평가 완료: 13/20 - Accuracy: 2\n",
      "평가 완료: 14/20 - Accuracy: 3\n",
      "평가 완료: 15/20 - Accuracy: 1\n",
      "평가 완료: 16/20 - Accuracy: 0\n",
      "평가 완료: 17/20 - Accuracy: 2\n",
      "평가 완료: 18/20 - Accuracy: 2\n",
      "평가 완료: 19/20 - Accuracy: 3\n",
      "평가 완료: 20/20 - Accuracy: 3\n",
      "\n",
      "=== 전체 평가 결과 ===\n",
      "평균 정확도: 75.00\n",
      "평균 재현율: 75.00\n",
      "평균 구체성: 70.00\n",
      "전체 평균: 73.33\n"
     ]
    }
   ],
   "source": [
    "evaluation_results = []\n",
    "\n",
    "for idx in range(len(dataset_df)):\n",
    "    question = dataset_df['user_input'][idx]\n",
    "    answer = dataset_df['reference'][idx]\n",
    "    system_answer = dataset_df['system_answer'][idx]\n",
    "\n",
    "    # 평가 수행 (OpenAI 호출)\n",
    "    response = api_document_evaluation(question, answer, system_answer)\n",
    "\n",
    "    try:\n",
    "        scores = json.loads(response)\n",
    "        evaluation_results.append({\n",
    "            'index': idx,\n",
    "            'question': question,\n",
    "            'reference': answer,\n",
    "            'system_answer': system_answer,\n",
    "            'accuracy': scores.get('accuracy', 0),\n",
    "            'recall': scores.get('recall', 0),\n",
    "            'reliability': scores.get('reliability', 0)\n",
    "        })\n",
    "        print(f\"평가 완료: {idx+1}/{len(dataset_df)} - Accuracy: {scores.get('accuracy', 0)}\")\n",
    "    except json.JSONDecodeError:\n",
    "        print(f\"JSON 파싱 오류: {idx+1}/{len(dataset_df)}\")\n",
    "        evaluation_results.append({\n",
    "            'index': idx,\n",
    "            'question': question,\n",
    "            'reference': answer,\n",
    "            'system_answer': system_answer,\n",
    "            'accuracy': 0,\n",
    "            'recall': 0,\n",
    "            'reliability': 0\n",
    "        })\n",
    "\n",
    "# 결과 DataFrame 변환\n",
    "results_df = pd.DataFrame(evaluation_results)\n",
    "\n",
    "# 평균 점수 계산\n",
    "avg_accuracy = results_df['accuracy'].mean() * 100 / 3\n",
    "avg_recall = results_df['recall'].mean() * 100 / 3\n",
    "avg_reliability = results_df['reliability'].mean() * 100 / 3\n",
    "overall_avg = (avg_accuracy + avg_recall + avg_reliability) / 3\n",
    "\n",
    "print(f\"\\n=== 전체 평가 결과 ===\")\n",
    "print(f\"평균 정확도: {avg_accuracy:.2f}\")\n",
    "print(f\"평균 재현율: {avg_recall:.2f}\")\n",
    "print(f\"평균 신뢰성: {avg_reliability:.2f}\")\n",
    "print(f\"전체 평균: {overall_avg:.2f}\")"
   ]
  },
  {
   "cell_type": "code",
   "execution_count": 12,
   "id": "22ef1684",
   "metadata": {},
   "outputs": [
    {
     "name": "stdout",
     "output_type": "stream",
     "text": [
      "\n",
      "=== 전체 평가 결과 ===\n",
      "평균 정확도: 61.67\n",
      "평균 재현율: 63.33\n",
      "평균 신뢰성: 58.33\n",
      "전체 평균: 61.11\n"
     ]
    }
   ],
   "source": [
    "print(f\"\\n=== 전체 평가 결과 ===\")\n",
    "print(f\"평균 정확도: {avg_accuracy:.2f}\")\n",
    "print(f\"평균 재현율: {avg_recall:.2f}\")\n",
    "print(f\"평균 신뢰성: {avg_reliability:.2f}\")\n",
    "print(f\"전체 평균: {overall_avg:.2f}\")"
   ]
  },
  {
   "cell_type": "markdown",
   "id": "8968268dd606eca9",
   "metadata": {},
   "source": [
    "## 퍼플렉시티 응답을 배치로 정성적 평가"
   ]
  },
  {
   "cell_type": "code",
   "execution_count": 10,
   "id": "ebc7127639f42117",
   "metadata": {
    "ExecuteTime": {
     "end_time": "2025-09-26T16:51:18.049135Z",
     "start_time": "2025-09-26T16:51:18.027222Z"
    }
   },
   "outputs": [],
   "source": [
    "from langchain_community.chat_models import ChatPerplexity\n",
    "\n",
    "llm = ChatPerplexity(model=\"sonar\")"
   ]
  },
  {
   "cell_type": "code",
   "execution_count": 11,
   "id": "f94aeb2d26b7a7ee",
   "metadata": {
    "ExecuteTime": {
     "end_time": "2025-09-26T16:51:43.115372Z",
     "start_time": "2025-09-26T16:51:18.836776Z"
    }
   },
   "outputs": [
    {
     "name": "stdout",
     "output_type": "stream",
     "text": [
      "평가 완료: 1/20 - Accuracy: 2\n",
      "평가 완료: 2/20 - Accuracy: 2\n",
      "평가 완료: 3/20 - Accuracy: 3\n",
      "평가 완료: 4/20 - Accuracy: 2\n",
      "평가 완료: 5/20 - Accuracy: 3\n",
      "평가 완료: 6/20 - Accuracy: 2\n",
      "평가 완료: 7/20 - Accuracy: 2\n",
      "평가 완료: 8/20 - Accuracy: 3\n",
      "평가 완료: 9/20 - Accuracy: 1\n",
      "평가 완료: 10/20 - Accuracy: 2\n",
      "평가 완료: 11/20 - Accuracy: 3\n",
      "평가 완료: 12/20 - Accuracy: 1\n",
      "평가 완료: 13/20 - Accuracy: 1\n",
      "평가 완료: 14/20 - Accuracy: 2\n",
      "평가 완료: 15/20 - Accuracy: 2\n",
      "평가 완료: 16/20 - Accuracy: 0\n",
      "평가 완료: 17/20 - Accuracy: 0\n",
      "평가 완료: 18/20 - Accuracy: 2\n",
      "평가 완료: 19/20 - Accuracy: 1\n",
      "평가 완료: 20/20 - Accuracy: 3\n",
      "\n",
      "=== 전체 평가 결과 ===\n",
      "평균 정확도: 61.67\n",
      "평균 재현율: 63.33\n",
      "평균 구체성: 58.33\n",
      "전체 평균: 61.11\n"
     ]
    }
   ],
   "source": [
    "\n",
    "# === 배치 평가 실행 ===\n",
    "evaluation_results = []\n",
    "\n",
    "for idx in range(len(dataset_df)):\n",
    "    question = dataset_df['user_input'][idx]\n",
    "    answer = dataset_df['reference'][idx]\n",
    "\n",
    "    # 시스템 답변 생성\n",
    "    system_answer = llm.invoke(question).content\n",
    "\n",
    "    # 평가 수행 (OpenAI 호출)\n",
    "    response = api_document_evaluation(question, answer, system_answer)\n",
    "\n",
    "    # JSON 파싱\n",
    "    try:\n",
    "        scores = json.loads(response)\n",
    "        evaluation_results.append({\n",
    "            'index': idx,\n",
    "            'question': question,\n",
    "            'reference': answer,\n",
    "            'system_answer': system_answer,\n",
    "            'accuracy': scores.get('accuracy', 0),\n",
    "            'recall': scores.get('recall', 0),\n",
    "            'reliability': scores.get('reliability', 0)\n",
    "        })\n",
    "        print(f\"평가 완료: {idx+1}/{len(dataset_df)} - Accuracy: {scores.get('accuracy', 0)}\")\n",
    "    except json.JSONDecodeError:\n",
    "        print(f\"JSON 파싱 오류: {idx+1}/{len(dataset_df)}\")\n",
    "        evaluation_results.append({\n",
    "            'index': idx,\n",
    "            'question': question,\n",
    "            'reference': answer,\n",
    "            'system_answer': system_answer,\n",
    "            'accuracy': 0,\n",
    "            'recall': 0,\n",
    "            'reliability': 0\n",
    "        })\n",
    "\n",
    "# 결과 DataFrame 변환\n",
    "results_df = pd.DataFrame(evaluation_results)\n",
    "\n",
    "# 평균 점수 계산\n",
    "avg_accuracy = results_df['accuracy'].mean()*100/3\n",
    "avg_recall = results_df['recall'].mean()*100/3\n",
    "avg_reliability = results_df['reliability'].mean()*100/3\n",
    "overall_avg = (avg_accuracy + avg_recall + avg_reliability) / 3\n",
    "\n",
    "print(f\"\\n=== 전체 평가 결과 ===\")\n",
    "print(f\"평균 정확도: {avg_accuracy:.2f}\")\n",
    "print(f\"평균 재현율: {avg_recall:.2f}\")\n",
    "print(f\"평균 구체성: {avg_reliability:.2f}\")\n",
    "print(f\"전체 평균: {overall_avg:.2f}\")\n",
    "\n",
    "# 결과 저장\n",
    "# results_df.to_csv('perplexity_batch_evaluation_results.csv', index=False)\n",
    "# print(f\"\\n결과가 'perplexity_batch_evaluation_results.csv'에 저장되었습니다.\")\n"
   ]
  },
  {
   "cell_type": "code",
   "execution_count": null,
   "id": "73ec174d79ec45a5",
   "metadata": {},
   "outputs": [],
   "source": []
  }
 ],
 "metadata": {
  "kernelspec": {
   "display_name": "final-clean",
   "language": "python",
   "name": "python3"
  },
  "language_info": {
   "codemirror_mode": {
    "name": "ipython",
    "version": 3
   },
   "file_extension": ".py",
   "mimetype": "text/x-python",
   "name": "python",
   "nbconvert_exporter": "python",
   "pygments_lexer": "ipython3",
   "version": "3.10.18"
  }
 },
 "nbformat": 4,
 "nbformat_minor": 5
}
